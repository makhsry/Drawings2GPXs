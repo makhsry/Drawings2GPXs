{
 "cells": [
  {
   "cell_type": "markdown",
   "metadata": {
    "id": "Bimdw5i4-hZw"
   },
   "source": [
    "\n",
    "\n",
    "---\n",
    "\n"
   ]
  },
  {
   "cell_type": "markdown",
   "metadata": {
    "id": "1E1k2DCajUJK"
   },
   "source": [
    "#Preparing"
   ]
  },
  {
   "cell_type": "markdown",
   "metadata": {
    "id": "xJw9F7g06Ppd"
   },
   "source": [
    "##Just to get acess to the image pattern file"
   ]
  },
  {
   "cell_type": "code",
   "execution_count": null,
   "metadata": {
    "id": "GhV7HC4D1EhA"
   },
   "outputs": [],
   "source": [
    "from google.colab import drive\n",
    "drive.mount('/content/drive')"
   ]
  },
  {
   "cell_type": "markdown",
   "metadata": {
    "id": "t-9zyT0IR2fd"
   },
   "source": [
    "##Heading to workspace"
   ]
  },
  {
   "cell_type": "code",
   "execution_count": null,
   "metadata": {
    "id": "b9-l0PEFR2Ad"
   },
   "outputs": [],
   "source": [
    "%cd /content/drive/My Drive/GPX/"
   ]
  },
  {
   "cell_type": "markdown",
   "metadata": {
    "id": "VTo08pbZ6Ua5"
   },
   "source": [
    "##Not by default on Colab"
   ]
  },
  {
   "cell_type": "code",
   "execution_count": null,
   "metadata": {
    "id": "dnHeYKHY1YyA"
   },
   "outputs": [],
   "source": [
    "!pip install osmnx -q\n",
    "!pip install gpxpy -q"
   ]
  },
  {
   "cell_type": "markdown",
   "metadata": {
    "id": "KDRX2fn26YDk"
   },
   "source": [
    "##Loading required modules"
   ]
  },
  {
   "cell_type": "code",
   "execution_count": null,
   "metadata": {
    "id": "wTGSk2OW4bdW"
   },
   "outputs": [],
   "source": [
    "import numpy as np\n",
    "import cv2\n",
    "from PIL import Image\n",
    "import matplotlib.pyplot as plt\n",
    "import osmnx as ox\n",
    "from skimage.morphology import skeletonize\n",
    "import gpxpy\n",
    "import gpxpy.gpx\n",
    "from datetime import datetime\n",
    "from scipy import ndimage\n",
    "from skimage import measure\n",
    "import os"
   ]
  },
  {
   "cell_type": "markdown",
   "metadata": {
    "id": "qCUEu5EO-pDP"
   },
   "source": [
    "\n",
    "\n",
    "---\n",
    "\n"
   ]
  },
  {
   "cell_type": "markdown",
   "metadata": {
    "id": "jrE02hzzprc-"
   },
   "source": [
    "#this gets city's street network from OpenStreetMap"
   ]
  },
  {
   "cell_type": "code",
   "execution_count": null,
   "metadata": {
    "id": "r5TOUPkrp4nD"
   },
   "outputs": [],
   "source": [
    "place_name = \"Vancouver, BC, Canada\"\n",
    "network_type = 'bike'"
   ]
  },
  {
   "cell_type": "code",
   "execution_count": null,
   "metadata": {
    "id": "nIewaTqEprvj"
   },
   "outputs": [],
   "source": [
    "print(f\"Downloading {network_type} network for {place_name}\")\n",
    "G = ox.graph_from_place(place_name, network_type=network_type)"
   ]
  },
  {
   "cell_type": "code",
   "execution_count": null,
   "metadata": {
    "id": "fLOWBOGtqJ1T"
   },
   "outputs": [],
   "source": [
    "print(f\"Street network for {place_name}\")\n",
    "fig, ax = ox.plot_graph(G, node_size=0, edge_color='black', edge_linewidth=0.5, bgcolor='white')\n",
    "plt.show()"
   ]
  },
  {
   "cell_type": "code",
   "execution_count": null,
   "metadata": {
    "id": "gPZL3ont2bQT"
   },
   "outputs": [],
   "source": [
    "plt.close(fig)"
   ]
  },
  {
   "cell_type": "markdown",
   "metadata": {
    "id": "IgmhmXmWv52V"
   },
   "source": [
    "\n",
    "\n",
    "---\n",
    "\n"
   ]
  },
  {
   "cell_type": "markdown",
   "metadata": {
    "id": "5yVj07pvtxDm"
   },
   "source": [
    "#processing image"
   ]
  },
  {
   "cell_type": "code",
   "execution_count": null,
   "metadata": {
    "id": "S6tOE4sCoT90"
   },
   "outputs": [],
   "source": [
    "filename = 'AzadiSq.png'\n",
    "filename_without_ext = os.path.splitext(filename)[0]"
   ]
  },
  {
   "cell_type": "code",
   "execution_count": null,
   "metadata": {
    "id": "TYszxhfGt66H"
   },
   "outputs": [],
   "source": [
    "try:\n",
    "  img = Image.open(filename).convert('RGB')\n",
    "  img_np = np.array(img)\n",
    "  hsv_img = cv2.cvtColor(img_np, cv2.COLOR_RGB2HSV)\n",
    "  #\n",
    "except FileNotFoundError:\n",
    "  print(f\"Error: {filename} not found.\")"
   ]
  },
  {
   "cell_type": "code",
   "execution_count": null,
   "metadata": {
    "id": "vD63qEYf06kI"
   },
   "outputs": [],
   "source": [
    "plt.figure()\n",
    "plt.imshow(img_np)\n",
    "plt.axis('off')"
   ]
  },
  {
   "cell_type": "code",
   "execution_count": null,
   "metadata": {
    "id": "EiKBoccd2gWT"
   },
   "outputs": [],
   "source": [
    "plt.close()"
   ]
  },
  {
   "cell_type": "markdown",
   "metadata": {},
   "source": [
    "\n",
    "\n",
    "---\n",
    "\n"
   ]
  },
  {
   "cell_type": "markdown",
   "metadata": {
    "id": "YxYSaOyBtenH"
   },
   "source": [
    "###color range hsv (update to be inclusive if needed)"
   ]
  },
  {
   "cell_type": "code",
   "execution_count": null,
   "metadata": {
    "id": "j4x8EcuZtd-f"
   },
   "outputs": [],
   "source": [
    "color_ranges = {\n",
    "            'black': None,\n",
    "            'white': None,\n",
    "            'red': ([0, 100, 20], [10, 255, 255], [160, 100, 20], [180, 255, 255]), # Red wraps around\n",
    "            'orange': ([1, 100, 100], [1, 255, 255]),\n",
    "            'amber': ([2, 100, 100], [2, 255, 255]),\n",
    "            'yellow': ([3, 100, 100], [3, 255, 255]),\n",
    "            'lime': ([4, 100, 100], [4, 255, 255]),\n",
    "            'chartreuse': ([5, 100, 100], [5, 255, 255]),\n",
    "            'green': ([6, 100, 100], [6, 255, 255]),\n",
    "            'spring green': ([7, 100, 100], [7, 255, 255]),\n",
    "            'cyan': ([8, 100, 100], [8, 255, 255]),\n",
    "            'azure': ([9, 100, 100], [9, 255, 255]),\n",
    "            'blue': ([10, 100, 100], [10, 255, 255]),\n",
    "            'indigo': ([11, 100, 100], [11, 255, 255]),\n",
    "            'violet': ([12, 100, 100], [12, 255, 255]),\n",
    "            'purple': ([13, 100, 100], [13, 255, 255]),\n",
    "            'magenta': ([14, 100, 100], [14, 255, 255]),\n",
    "            'rose': ([15, 100, 100], [15, 255, 255]),\n",
    "            'maroon': ([16, 100, 100], [16, 255, 255]),\n",
    "            'brown': ([17, 100, 100], [17, 255, 255]),\n",
    "            'olive': ([18, 100, 100], [18, 255, 255]),\n",
    "            'teal': ([19, 100, 100], [19, 255, 255]),\n",
    "            'turquoise': ([20, 100, 100], [20, 255, 255]),\n",
    "            'sky blue': ([21, 100, 100], [21, 255, 255]),\n",
    "            'navy': ([22, 100, 100], [22, 255, 255]),\n",
    "            'coral': ([23, 100, 100], [23, 255, 255]),\n",
    "            'salmon': ([24, 100, 100], [24, 255, 255]),\n",
    "            'gold': ([25, 100, 100], [25, 255, 255]),\n",
    "            'peach': ([26, 100, 100], [26, 255, 255]),\n",
    "            'mint': ([27, 100, 100], [27, 255, 255]),\n",
    "            'sea green': ([28, 100, 100], [28, 255, 255]),\n",
    "            'forest green': ([29, 100, 100], [29, 255, 255]),\n",
    "            'aqua': ([30, 100, 100], [30, 255, 255]),\n",
    "            'lavender': ([31, 100, 100], [31, 255, 255]),\n",
    "            'plum': ([32, 100, 100], [32, 255, 255]),\n",
    "            'orchid': ([33, 100, 100], [33, 255, 255]),\n",
    "            'periwinkle': ([34, 100, 100], [34, 255, 255]),\n",
    "            'steel blue': ([35, 100, 100], [35, 255, 255]),\n",
    "            'cadet blue': ([36, 100, 100], [36, 255, 255]),\n",
    "            'khaki': ([37, 100, 100], [37, 255, 255]),\n",
    "            'beige': ([38, 100, 100], [38, 255, 255]),\n",
    "            'ivory': ([39, 100, 100], [39, 255, 255]),\n",
    "            'slate blue': ([40, 100, 100], [40, 255, 255]),\n",
    "            'royal blue': ([41, 100, 100], [41, 255, 255]),\n",
    "            'midnight blue': ([42, 100, 100], [42, 255, 255]),\n",
    "            'powder blue': ([43, 100, 100], [43, 255, 255]),\n",
    "            'light cyan': ([44, 100, 100], [44, 255, 255]),\n",
    "            'pale green': ([45, 100, 100], [45, 255, 255]),\n",
    "            'dark green': ([46, 100, 100], [46, 255, 255]),\n",
    "            'dark red': ([47, 100, 100], [47, 255, 255]),\n",
    "            'crimson': ([48, 100, 100], [48, 255, 255]),\n",
    "            'tomato': ([49, 100, 100], [49, 255, 255]),\n",
    "            'firebrick': ([50, 100, 100], [50, 255, 255]),\n",
    "            'chocolate': ([51, 100, 100], [51, 255, 255]),\n",
    "            'sienna': ([52, 100, 100], [52, 255, 255]),\n",
    "            'tan': ([53, 100, 100], [53, 255, 255]),\n",
    "            'wheat': ([54, 100, 100], [54, 255, 255]),\n",
    "            'light pink': ([55, 100, 100], [55, 255, 255]),\n",
    "            'hot pink': ([56, 100, 100], [56, 255, 255]),\n",
    "            'deep pink': ([57, 100, 100], [57, 255, 255]),\n",
    "            'fuchsia': ([58, 100, 100], [58, 255, 255]),\n",
    "            'thistle': ([59, 100, 100], [59, 255, 255]),\n",
    "            'mauve': ([60, 100, 100], [60, 255, 255]),\n",
    "            'indian red': ([61, 100, 100], [61, 255, 255]),\n",
    "            'rosy brown': ([62, 100, 100], [62, 255, 255]),\n",
    "            'dark orange': ([63, 100, 100], [63, 255, 255]),\n",
    "            'light salmon': ([64, 100, 100], [64, 255, 255]),\n",
    "            'sandy brown': ([65, 100, 100], [65, 255, 255]),\n",
    "            'burlywood': ([66, 100, 100], [66, 255, 255]),\n",
    "            'navajo white': ([67, 100, 100], [67, 255, 255]),\n",
    "            'blanched almond': ([68, 100, 100], [68, 255, 255]),\n",
    "            'moccasin': ([69, 100, 100], [69, 255, 255]),\n",
    "            'papaya whip': ([70, 100, 100], [70, 255, 255]),\n",
    "            'old lace': ([71, 100, 100], [71, 255, 255]),\n",
    "            'linen': ([72, 100, 100], [72, 255, 255]),\n",
    "            'antique white': ([73, 100, 100], [73, 255, 255]),\n",
    "            'misty rose': ([74, 100, 100], [74, 255, 255]),\n",
    "            'gainsboro': ([75, 100, 100], [75, 255, 255]),\n",
    "            'light gray': ([76, 100, 100], [76, 255, 255]),\n",
    "            'silver': ([77, 100, 100], [77, 255, 255]),\n",
    "            'dark gray': ([78, 100, 100], [78, 255, 255]),\n",
    "            'gray': ([79, 100, 100], [79, 255, 255]),\n",
    "            'dim gray': ([80, 100, 100], [80, 255, 255]),\n",
    "            'light slate gray': ([81, 100, 100], [81, 255, 255]),\n",
    "            'slate gray': ([82, 100, 100], [82, 255, 255]),\n",
    "            'dark slate gray': ([83, 100, 100], [83, 255, 255]),\n",
    "            'black olive': ([84, 100, 100], [84, 255, 255]),\n",
    "            'taupe': ([85, 100, 100], [85, 255, 255]),\n",
    "            'charcoal': ([86, 100, 100], [86, 255, 255]),\n",
    "            'jet': ([87, 100, 100], [87, 255, 255]),\n",
    "            'onyx': ([88, 100, 100], [88, 255, 255]),\n",
    "            'ebony': ([89, 100, 100], [89, 255, 255]),\n",
    "            'ash gray': ([90, 100, 100], [90, 255, 255]),\n",
    "            'cool gray': ([91, 100, 100], [91, 255, 255]),\n",
    "            'warm gray': ([92, 100, 100], [92, 255, 255]),\n",
    "            'neutral gray': ([93, 100, 100], [93, 255, 255]),\n",
    "            'payne’s gray': ([94, 100, 100], [94, 255, 255]),\n",
    "            'gunmetal': ([95, 100, 100], [95, 255, 255]),\n",
    "            'smoke': ([96, 100, 100], [96, 255, 255]),\n",
    "            'stormcloud': ([97, 100, 100], [97, 255, 255]),\n",
    "            'outer space': ([98, 100, 100], [98, 255, 255]),\n",
    "            'night': ([99, 100, 100], [99, 255, 255])\n",
    "        }\n",
    "#\n",
    "color_map_rgba = {\n",
    "            'black': [0, 0, 0, 255],\n",
    "            'white': [255, 255, 255, 255],\n",
    "            'red': [255, 0, 0, 255],\n",
    "            'orange': [255, 165, 0, 255],\n",
    "            'amber': [128, 128, 128, 255],\n",
    "            'yellow': [255, 255, 0, 255],\n",
    "            'lime': [0, 255, 0, 255],\n",
    "            'chartreuse': [127, 255, 0, 255],\n",
    "            'green': [0, 128, 0, 255],\n",
    "            'spring green': [128, 128, 128, 255],\n",
    "            'cyan': [0, 255, 255, 255],\n",
    "            'azure': [240, 255, 255, 255],\n",
    "            'blue': [0, 0, 255, 255],\n",
    "            'indigo': [75, 0, 130, 255],\n",
    "            'violet': [238, 130, 238, 255],\n",
    "            'purple': [128, 0, 128, 255],\n",
    "            'magenta': [255, 0, 255, 255],\n",
    "            'rose': [128, 128, 128, 255],\n",
    "            'maroon': [128, 0, 0, 255],\n",
    "            'brown': [165, 42, 42, 255],\n",
    "            'olive': [128, 128, 0, 255],\n",
    "            'teal': [0, 128, 128, 255],\n",
    "            'turquoise': [64, 224, 208, 255],\n",
    "            'sky blue': [128, 128, 128, 255],\n",
    "            'navy': [0, 0, 128, 255],\n",
    "            'coral': [255, 127, 80, 255],\n",
    "            'salmon': [250, 128, 114, 255],\n",
    "            'gold': [255, 215, 0, 255],\n",
    "            'peach': [128, 128, 128, 255],\n",
    "            'mint': [128, 128, 128, 255],\n",
    "            'sea green': [128, 128, 128, 255],\n",
    "            'forest green': [128, 128, 128, 255],\n",
    "            'aqua': [0, 255, 255, 255],\n",
    "            'lavender': [230, 230, 250, 255],\n",
    "            'plum': [221, 160, 221, 255],\n",
    "            'orchid': [218, 112, 214, 255],\n",
    "            'periwinkle': [128, 128, 128, 255],\n",
    "            'steel blue': [128, 128, 128, 255],\n",
    "            'cadet blue': [128, 128, 128, 255],\n",
    "            'khaki': [240, 230, 140, 255],\n",
    "            'beige': [245, 245, 220, 255],\n",
    "            'ivory': [255, 255, 240, 255],\n",
    "            'slate blue': [128, 128, 128, 255],\n",
    "            'royal blue': [128, 128, 128, 255],\n",
    "            'midnight blue': [128, 128, 128, 255],\n",
    "            'powder blue': [128, 128, 128, 255],\n",
    "            'light cyan': [128, 128, 128, 255],\n",
    "            'pale green': [128, 128, 128, 255],\n",
    "            'dark green': [128, 128, 128, 255],\n",
    "            'dark red': [128, 128, 128, 255],\n",
    "            'crimson': [220, 20, 60, 255],\n",
    "            'tomato': [255, 99, 71, 255],\n",
    "            'firebrick': [178, 34, 34, 255],\n",
    "            'chocolate': [210, 105, 30, 255],\n",
    "            'sienna': [160, 82, 45, 255],\n",
    "            'tan': [210, 180, 140, 255],\n",
    "            'wheat': [245, 222, 179, 255],\n",
    "            'light pink': [128, 128, 128, 255],\n",
    "            'hot pink': [128, 128, 128, 255],\n",
    "            'deep pink': [128, 128, 128, 255],\n",
    "            'fuchsia': [255, 0, 255, 255],\n",
    "            'thistle': [216, 191, 216, 255],\n",
    "            'mauve': [128, 128, 128, 255],\n",
    "            'indian red': [128, 128, 128, 255],\n",
    "            'rosy brown': [128, 128, 128, 255],\n",
    "            'dark orange': [128, 128, 128, 255],\n",
    "            'light salmon': [128, 128, 128, 255],\n",
    "            'sandy brown': [128, 128, 128, 255],\n",
    "            'burlywood': [222, 184, 135, 255],\n",
    "            'navajo white': [128, 128, 128, 255],\n",
    "            'blanched almond': [128, 128, 128, 255],\n",
    "            'moccasin': [255, 228, 181, 255],\n",
    "            'papaya whip': [128, 128, 128, 255],\n",
    "            'old lace': [128, 128, 128, 255],\n",
    "            'linen': [250, 240, 230, 255],\n",
    "            'antique white': [128, 128, 128, 255],\n",
    "            'misty rose': [128, 128, 128, 255],\n",
    "            'gainsboro': [220, 220, 220, 255],\n",
    "            'light gray': [128, 128, 128, 255],\n",
    "            'silver': [192, 192, 192, 255],\n",
    "            'dark gray': [128, 128, 128, 255],\n",
    "            'gray': [128, 128, 128, 255],\n",
    "            'dim gray': [128, 128, 128, 255],\n",
    "            'light slate gray': [128, 128, 128, 255],\n",
    "            'slate gray': [128, 128, 128, 255],\n",
    "            'dark slate gray': [128, 128, 128, 255],\n",
    "            'black olive': [128, 128, 128, 255],\n",
    "            'taupe': [128, 128, 128, 255],\n",
    "            'charcoal': [128, 128, 128, 255],\n",
    "            'jet': [128, 128, 128, 255],\n",
    "            'onyx': [128, 128, 128, 255],\n",
    "            'ebony': [128, 128, 128, 255],\n",
    "            'ash gray': [128, 128, 128, 255],\n",
    "            'cool gray': [128, 128, 128, 255],\n",
    "            'warm gray': [128, 128, 128, 255],\n",
    "            'neutral gray': [128, 128, 128, 255],\n",
    "            'payne’s gray': [128, 128, 128, 255],\n",
    "            'gunmetal': [128, 128, 128, 255],\n",
    "            'smoke': [128, 128, 128, 255],\n",
    "            'stormcloud': [128, 128, 128, 255],\n",
    "            'outer space': [128, 128, 128, 255],\n",
    "            'night': [128, 128, 128, 255]\n",
    "}"
   ]
  },
  {
   "cell_type": "markdown",
   "metadata": {},
   "source": [
    "\n",
    "\n",
    "---\n",
    "\n"
   ]
  },
  {
   "cell_type": "markdown",
   "metadata": {
    "id": "2Zhe3gnwuMtu"
   },
   "source": [
    "###detects colors used in the image"
   ]
  },
  {
   "cell_type": "code",
   "execution_count": null,
   "metadata": {
    "id": "Dqxtsmv4oK9k"
   },
   "outputs": [],
   "source": [
    "detected_colors = []\n",
    "total_pixels = img_np.shape[0] * img_np.shape[1]\n",
    "min_pixels_threshold = total_pixels * 0.001 #\n",
    "\n",
    "for color, ranges in color_ranges.items():\n",
    "  if color in ['black', 'white']:\n",
    "    gray_img = img.convert('L')\n",
    "    gray_img_np = np.array(gray_img)\n",
    "    if color == 'black':\n",
    "        ret, mask = cv2.threshold(gray_img_np, 10, 255, cv2.THRESH_BINARY_INV)\n",
    "    else: # color == 'white'\n",
    "        ret, mask = cv2.threshold(gray_img_np, 245, 255, cv2.THRESH_BINARY)\n",
    "  elif color == 'red':\n",
    "    mask1 = cv2.inRange(hsv_img, np.array(ranges[0]), np.array(ranges[1]))\n",
    "    mask2 = cv2.inRange(hsv_img, np.array(ranges[2]), np.array(ranges[3]))\n",
    "    mask = mask1 + mask2\n",
    "  else:\n",
    "    lower, upper = ranges\n",
    "    mask = cv2.inRange(hsv_img, np.array(lower), np.array(upper))\n",
    "  pixel_count = np.sum(mask > 0)\n",
    "  if pixel_count > min_pixels_threshold:\n",
    "      detected_colors.append(color)"
   ]
  },
  {
   "cell_type": "code",
   "execution_count": null,
   "metadata": {
    "id": "ZjiHvieSotGU"
   },
   "outputs": [],
   "source": [
    "print(f\"Detected colors in the image: {detected_colors}\")\n",
    "#\n",
    "if 'white' in detected_colors: detected_colors.remove('white')\n",
    "if 'black' in detected_colors: detected_colors.remove('black')\n",
    "#\n",
    "print(f\"[cleaned] Detected colors in the image: {detected_colors}\")"
   ]
  },
  {
   "cell_type": "markdown",
   "metadata": {
    "id": "nef-BtTg6p15"
   },
   "source": [
    "##digitizes colors in image and prepares image binary format"
   ]
  },
  {
   "cell_type": "code",
   "execution_count": null,
   "metadata": {
    "id": "9SPyKmkvtKP_"
   },
   "outputs": [],
   "source": [
    "masks = {}\n",
    "for color in detected_colors:\n",
    "  if color.lower() in color_ranges:\n",
    "    if color == 'red':\n",
    "      ranges = color_ranges[color]\n",
    "      mask1 = cv2.inRange(hsv_img, np.array(ranges[0]), np.array(ranges[1]))\n",
    "      mask2 = cv2.inRange(hsv_img, np.array(ranges[2]), np.array(ranges[3]))\n",
    "      mask = mask1 + mask2\n",
    "    elif color in ['black', 'white']:\n",
    "      gray_img = img.convert('L')\n",
    "      gray_img_np = np.array(gray_img)\n",
    "      if color == 'black':\n",
    "          ret, mask = cv2.threshold(gray_img_np, 10, 255, cv2.THRESH_BINARY_INV)\n",
    "      else: # color == 'white'\n",
    "          ret, mask = cv2.threshold(gray_img_np, 245, 255, cv2.THRESH_BINARY)\n",
    "    else:\n",
    "      lower, upper = color_ranges[color]\n",
    "      mask = cv2.inRange(hsv_img, np.array(lower), np.array(upper))\n",
    "    masks[color] = mask\n",
    "  else:\n",
    "    print(f\"Warning: color '{color}' not supported - not in color_ranges.\")"
   ]
  },
  {
   "cell_type": "markdown",
   "metadata": {
    "id": "L60RApIT1c9_"
   },
   "source": [
    "###visualizing"
   ]
  },
  {
   "cell_type": "code",
   "execution_count": null,
   "metadata": {
    "id": "UufB5kdQ1dUH"
   },
   "outputs": [],
   "source": [
    "for color in detected_colors:\n",
    "  binary_img = masks[color]\n",
    "  plt.figure()\n",
    "  plt.subplot(1, 2, 1)\n",
    "  plt.imshow(img, cmap='gray')\n",
    "  plt.title('Original Image')\n",
    "  plt.axis('off')\n",
    "  #\n",
    "  plt.subplot(1, 2, 2)\n",
    "  plt.imshow(binary_img, cmap='gray')\n",
    "  plt.title(f'Binary Image ({color})')\n",
    "  plt.axis('off')\n",
    "  plt.tight_layout()\n",
    "  plt.show()"
   ]
  },
  {
   "cell_type": "code",
   "execution_count": null,
   "metadata": {
    "id": "0apdL5ey21-T"
   },
   "outputs": [],
   "source": [
    "plt.close()"
   ]
  },
  {
   "cell_type": "markdown",
   "metadata": {},
   "source": [
    "\n",
    "\n",
    "---\n",
    "\n"
   ]
  },
  {
   "cell_type": "markdown",
   "metadata": {
    "id": "g7PvIhgTv4F1"
   },
   "source": [
    "##creates outlines for each color"
   ]
  },
  {
   "cell_type": "code",
   "execution_count": null,
   "metadata": {
    "id": "o3TVMljdwwbV"
   },
   "outputs": [],
   "source": [
    "outline_imgs = {}\n",
    "#\n",
    "for color in detected_colors:\n",
    "  #\n",
    "  binary_img = masks[color]\n",
    "  #\n",
    "  kernel_clean = np.ones((3,3), np.uint8)\n",
    "  binary_cleaned = cv2.morphologyEx(binary_img, cv2.MORPH_CLOSE, kernel_clean)\n",
    "  binary_cleaned = cv2.morphologyEx(binary_cleaned, cv2.MORPH_OPEN, kernel_clean)\n",
    "  #\n",
    "  contours, _ = cv2.findContours(binary_cleaned, cv2.RETR_EXTERNAL, cv2.CHAIN_APPROX_NONE)\n",
    "  #\n",
    "  if not contours:\n",
    "    print(f'No contours found for color {color}!')\n",
    "    outline_imgs[color] = None\n",
    "  else:\n",
    "    largest_contour = max(contours, key=cv2.contourArea)\n",
    "    #\n",
    "    outline_img = np.zeros_like(binary_img)\n",
    "    cv2.drawContours(outline_img, [largest_contour], -1, 255, 1)  # thickness=1 for thin boundary\n",
    "    outline_imgs[color] = outline_img"
   ]
  },
  {
   "cell_type": "markdown",
   "metadata": {
    "id": "jiqBYEEU6nSJ"
   },
   "source": [
    "##attempts to get the boundary/perimeter of the pattern as a continuous path"
   ]
  },
  {
   "cell_type": "code",
   "execution_count": null,
   "metadata": {
    "id": "F-UC68dz6bPS"
   },
   "outputs": [],
   "source": [
    "skeleton_imgs = {}\n",
    "#\n",
    "for color in detected_colors:\n",
    "  kernel = np.ones((2,2), np.uint8)\n",
    "  skeleton_img = cv2.morphologyEx(outline_imgs[color], cv2.MORPH_CLOSE, kernel)\n",
    "  skeleton_imgs[color] = skeleton_img"
   ]
  },
  {
   "cell_type": "markdown",
   "metadata": {
    "id": "KtYWqLiE7BDx"
   },
   "source": [
    "###visualizing"
   ]
  },
  {
   "cell_type": "code",
   "execution_count": null,
   "metadata": {
    "id": "PPz2bUrc6bI6"
   },
   "outputs": [],
   "source": [
    "for color in detected_colors:\n",
    "  binary_img = masks[color]\n",
    "  skeleton_img = skeleton_imgs[color]\n",
    "  #\n",
    "  plt.figure()\n",
    "  plt.subplot(1, 3, 1)\n",
    "  plt.imshow(img, cmap='gray')\n",
    "  plt.title('Original Image')\n",
    "  plt.axis('off')\n",
    "  #\n",
    "  plt.subplot(1, 3, 2)\n",
    "  plt.imshow(binary_img, cmap='gray')\n",
    "  plt.title(f'Binary Image ({color})')\n",
    "  plt.axis('off')\n",
    "  #\n",
    "  plt.subplot(1, 3, 3)\n",
    "  plt.imshow(skeleton_img, cmap='gray')\n",
    "  plt.title(f'Boundary Route ({color})')\n",
    "  plt.axis('off')\n",
    "  plt.tight_layout()\n",
    "  plt.show()"
   ]
  },
  {
   "cell_type": "code",
   "execution_count": null,
   "metadata": {
    "id": "S_BsO8_t27LT"
   },
   "outputs": [],
   "source": [
    "plt.close()"
   ]
  },
  {
   "cell_type": "markdown",
   "metadata": {
    "id": "IQOUIq5b79kq"
   },
   "source": [
    "\n",
    "\n",
    "---\n",
    "\n"
   ]
  },
  {
   "cell_type": "markdown",
   "metadata": {
    "id": "3I8kC5V58MXI"
   },
   "source": [
    "#Overlaying image onto map - to detect the main extent using color or outermost layer"
   ]
  },
  {
   "cell_type": "markdown",
   "metadata": {},
   "source": [
    "####**specify the outermost color**"
   ]
  },
  {
   "cell_type": "code",
   "execution_count": null,
   "metadata": {},
   "outputs": [],
   "source": [
    "detected_colors"
   ]
  },
  {
   "cell_type": "code",
   "execution_count": null,
   "metadata": {},
   "outputs": [],
   "source": [
    "outermost_color = 'yellow'"
   ]
  },
  {
   "cell_type": "code",
   "execution_count": null,
   "metadata": {},
   "outputs": [],
   "source": [
    "detected_colors.remove(outermost_color)\n",
    "detected_colors.insert(0, outermost_color)\n",
    "print(f\"[sorted] Detected colors in the image: {detected_colors}\")"
   ]
  },
  {
   "cell_type": "markdown",
   "metadata": {
    "id": "CD6s_w5U6BjQ"
   },
   "source": [
    "##Trial and Error step"
   ]
  },
  {
   "cell_type": "markdown",
   "metadata": {
    "id": "WGD66zE2XBIY"
   },
   "source": [
    "**Update these until the outermost boundary sits within the network**"
   ]
  },
  {
   "cell_type": "code",
   "execution_count": null,
   "metadata": {
    "id": "5y51dQ-JXBVY"
   },
   "outputs": [],
   "source": [
    "scale_factor_y = 0.5 # 60% of whole map\n",
    "scale_factor_x = 0.5 # 60% of whole map\n",
    "position_offset_x = 0.10 # % shift left bottomright corner image #% of map\n",
    "position_offset_y = 0.10 # % shift upward bottomright corner image #% of map"
   ]
  },
  {
   "cell_type": "code",
   "execution_count": null,
   "metadata": {
    "id": "VVwLKXpScsKC"
   },
   "outputs": [],
   "source": [
    "threshold_val = 10\n",
    "#\n",
    "existing_extent = None\n",
    "reference_center = None"
   ]
  },
  {
   "cell_type": "code",
   "execution_count": null,
   "metadata": {
    "id": "UZ_xAVEClyCf"
   },
   "outputs": [],
   "source": [
    "rgba_imgs = {}\n",
    "image_data = {}"
   ]
  },
  {
   "cell_type": "code",
   "execution_count": null,
   "metadata": {
    "id": "yOw0WsK0ovbz"
   },
   "outputs": [],
   "source": [
    "fig, ax = ox.plot_graph(G, node_size=0, edge_color='black',\n",
    "                        edge_linewidth=1, bgcolor='white', show=False, close=False)\n",
    "#\n",
    "for i, color in enumerate(detected_colors):\n",
    "    binary_img = masks[color]\n",
    "    skeleton_img = skeleton_imgs[color]\n",
    "    thisimage = skeleton_imgs[color]\n",
    "    #\n",
    "    if existing_extent:\n",
    "        graph_xlim = (existing_extent[0], existing_extent[1])\n",
    "        graph_ylim = (existing_extent[2], existing_extent[3])\n",
    "    else:\n",
    "        graph_xlim = ax.get_xlim()\n",
    "        graph_ylim = ax.get_ylim()\n",
    "    #\n",
    "    graph_width = graph_xlim[1] - graph_xlim[0]\n",
    "    graph_height = graph_ylim[1] - graph_ylim[0]\n",
    "    #\n",
    "    img_height, img_width = thisimage.shape\n",
    "    #\n",
    "    max_route_width = graph_width * scale_factor_x\n",
    "    max_route_height = graph_height * scale_factor_y\n",
    "    #\n",
    "    width_scale = max_route_width / img_width\n",
    "    height_scale = max_route_height / img_height\n",
    "    final_scale = min(width_scale, height_scale)\n",
    "    #\n",
    "    new_width = img_width * final_scale\n",
    "    new_height = img_height * final_scale\n",
    "    #\n",
    "    image_data[color] = {\n",
    "        'image': thisimage,\n",
    "        'new_width': new_width,\n",
    "        'new_height': new_height,\n",
    "        'final_scale': final_scale,\n",
    "        'img_height': img_height,\n",
    "        'img_width': img_width\n",
    "    }\n",
    "    #\n",
    "    if reference_center is None:\n",
    "        offset_x, offset_y = position_offset_x, position_offset_y\n",
    "        route_right = graph_xlim[1] - (graph_width * offset_x)\n",
    "        route_left = route_right - new_width\n",
    "        route_bottom = graph_ylim[0] + (graph_height * offset_y)\n",
    "        route_top = route_bottom + new_height\n",
    "        #\n",
    "        reference_center = (\n",
    "            (route_left + route_right) / 2, \n",
    "            (route_bottom + route_top) / 2\n",
    "        )\n",
    "#\n",
    "for color in detected_colors:\n",
    "    data = image_data[color]\n",
    "    thisimage = data['image']\n",
    "    new_width = data['new_width']\n",
    "    new_height = data['new_height']\n",
    "    img_height = data['img_height']\n",
    "    img_width = data['img_width']\n",
    "    #\n",
    "    center_x, center_y = reference_center\n",
    "    #\n",
    "    route_left = center_x - new_width / 2\n",
    "    route_right = center_x + new_width / 2\n",
    "    route_bottom = center_y - new_height / 2\n",
    "    route_top = center_y + new_height / 2\n",
    "    #\n",
    "    rgba_img = np.zeros((img_height, img_width, 4), dtype=np.uint8)\n",
    "    rgba_img[thisimage > 0] = color_map_rgba.get(color.lower(), [255, 0, 0, 255])\n",
    "    #\n",
    "    extent = (route_left, route_right, route_bottom, route_top)\n",
    "    #\n",
    "    ax.imshow(rgba_img, extent=extent, alpha=0.4, zorder=100)\n",
    "    #\n",
    "    kernel = np.ones((5, 5), np.uint8)\n",
    "    thicker_img = cv2.dilate(rgba_img, kernel, iterations=2)\n",
    "    ax.imshow(thicker_img, extent=extent, alpha=0.4, zorder=100)\n",
    "    #\n",
    "    if existing_extent is None:\n",
    "        existing_extent = extent\n",
    "    rgba_imgs[color] = rgba_img\n",
    "    #\n",
    "plt.title(f\"pattern as routes mapped to city street network\", fontsize=16)\n",
    "plt.show()"
   ]
  },
  {
   "cell_type": "markdown",
   "metadata": {
    "id": "aFvXQf9ZXdDp"
   },
   "source": [
    "> **Does it look good?**\n",
    "\n",
    "> **Does it fit in the network?**"
   ]
  },
  {
   "cell_type": "markdown",
   "metadata": {
    "id": "2KFBAWKW8BB_"
   },
   "source": [
    "\n",
    "\n",
    "---\n",
    "\n"
   ]
  },
  {
   "cell_type": "markdown",
   "metadata": {
    "id": "UWLUVDZe6GnI"
   },
   "source": [
    "##Production step"
   ]
  },
  {
   "cell_type": "code",
   "execution_count": null,
   "metadata": {
    "id": "ayEv-RB7t9B-"
   },
   "outputs": [],
   "source": [
    "coordinates = {}"
   ]
  },
  {
   "cell_type": "code",
   "execution_count": null,
   "metadata": {
    "id": "LiyjiaJ9t861"
   },
   "outputs": [],
   "source": [
    "figv, axv = ox.plot_graph(G, node_size=0, edge_color='black',\n",
    "                        edge_linewidth=0.5, bgcolor='white', show=False, close=False)\n",
    "#\n",
    "for _, color in enumerate(detected_colors):\n",
    "  rgba_img = rgba_imgs[color]\n",
    "  #\n",
    "  left, right, bottom, top = extent\n",
    "  height, width, _ = rgba_img.shape\n",
    "  #\n",
    "  lon_per_pixel = (right - left) / width\n",
    "  lat_per_pixel = (top - bottom) / height\n",
    "  #\n",
    "  route_pixels = []\n",
    "  #\n",
    "  for y in range(height):\n",
    "      for x in range(width):\n",
    "          if np.array_equal(rgba_img[y, x], color_map_rgba.get(color.lower(), [255, 0, 0, 255])):\n",
    "              route_pixels.append((x, y))\n",
    "  #\n",
    "  route_pixels = np.array(route_pixels)\n",
    "  #\n",
    "  start_idx = np.argmin(route_pixels[:, 0])\n",
    "  ordered_pixels = [route_pixels[start_idx]]\n",
    "  remaining = list(range(len(route_pixels)))\n",
    "  remaining.remove(start_idx)\n",
    "  #\n",
    "  current_pixel = route_pixels[start_idx]\n",
    "  #\n",
    "  while remaining:\n",
    "      distances = []\n",
    "      for idx in remaining:\n",
    "          pixel = route_pixels[idx]\n",
    "          #\n",
    "          dist = np.sqrt((current_pixel[0] - pixel[0])**2 + (current_pixel[1] - pixel[1])**2)\n",
    "          distances.append((dist, idx))\n",
    "      #\n",
    "      distances.sort()\n",
    "      #\n",
    "      chosen_idx = None\n",
    "      for dist, idx in distances:\n",
    "          if dist <= 2.0: # Consider pixels within a 2-pixel radius\n",
    "              chosen_idx = idx\n",
    "              break\n",
    "      if chosen_idx is None:\n",
    "          chosen_idx = distances[0][1]\n",
    "      current_pixel = route_pixels[chosen_idx]\n",
    "      ordered_pixels.append(current_pixel)\n",
    "      remaining.remove(chosen_idx)\n",
    "  coords = []\n",
    "  for x, y in ordered_pixels:\n",
    "      latitude = top - (y + 0.5) * lat_per_pixel\n",
    "      longitude = left + (x + 0.5) * lon_per_pixel\n",
    "      coords.append((latitude, longitude))\n",
    "  coordinates[color] = coords\n",
    "  #\n",
    "  if coords:\n",
    "    lats = [coord[0] for coord in coords]\n",
    "    lons = [coord[1] for coord in coords]\n",
    "    #\n",
    "    axv.scatter(lons, lats, s=1, alpha=0.7, label=f'Route ({len(coords)} points)')\n",
    "    #\n",
    "    axv.plot(lons, lats, linewidth=1, alpha=0.6)\n",
    "    #\n",
    "axv.set_title(\"final route - GPS coordinates on city map\", fontsize=16)\n",
    "axv.legend()\n",
    "plt.show()"
   ]
  },
  {
   "cell_type": "markdown",
   "metadata": {
    "id": "6_rfmbLL8Cwe"
   },
   "source": [
    "\n",
    "\n",
    "---\n",
    "\n"
   ]
  },
  {
   "cell_type": "markdown",
   "metadata": {
    "id": "S3DWPlD_6KTg"
   },
   "source": [
    "##Writing out"
   ]
  },
  {
   "cell_type": "markdown",
   "metadata": {
    "id": "D7UzSSOe3oxT"
   },
   "source": [
    "#Creating GPS and exporting GPX file"
   ]
  },
  {
   "cell_type": "code",
   "execution_count": null,
   "metadata": {
    "id": "jYZTGZNbt831"
   },
   "outputs": [],
   "source": [
    "for _, color in enumerate(detected_colors):\n",
    "  #\n",
    "  filename_gpx=filename_without_ext+'_'+color\n",
    "  timestamp = datetime.now().strftime(\"%Y-%m-%d_%H-%M-%S\")\n",
    "  output_filename = f\"{filename_gpx}_{timestamp}.gpx\"\n",
    "  #\n",
    "  coords = coordinates[color]\n",
    "  #\n",
    "  if not coords:\n",
    "      print(\"No coordinates to save!\")\n",
    "  #\n",
    "  gpx = gpxpy.gpx.GPX()\n",
    "  gpx_track = gpxpy.gpx.GPXTrack()\n",
    "  gpx.tracks.append(gpx_track)\n",
    "  gpx_segment = gpxpy.gpx.GPXTrackSegment()\n",
    "  gpx_track.segments.append(gpx_segment)\n",
    "  #\n",
    "  for lat, lon in coords:\n",
    "    gpx_segment.points.append(gpxpy.gpx.GPXTrackPoint(lat, lon))\n",
    "  #\n",
    "  with open(output_filename, 'w') as f:\n",
    "    f.write(gpx.to_xml())\n",
    "  print(f\"GPX route for color {color} saved to: {output_filename}\")"
   ]
  },
  {
   "cell_type": "markdown",
   "metadata": {
    "id": "IuX6puoD6M9v"
   },
   "source": [
    "\n",
    "\n",
    "---\n",
    "\n"
   ]
  }
 ],
 "metadata": {
  "colab": {
   "provenance": [],
   "toc_visible": true
  },
  "kernelspec": {
   "display_name": "Python 3",
   "name": "python3"
  },
  "language_info": {
   "name": "python"
  }
 },
 "nbformat": 4,
 "nbformat_minor": 0
}
